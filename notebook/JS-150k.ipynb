{
 "cells": [
  {
   "cell_type": "code",
   "execution_count": 1,
   "metadata": {},
   "outputs": [],
   "source": [
    "import networkx as nx\n",
    "from networkx.algorithms.traversal.depth_first_search import dfs_tree\n",
    "from networkx.readwrite import json_graph"
   ]
  },
  {
   "cell_type": "code",
   "execution_count": 2,
   "metadata": {},
   "outputs": [],
   "source": [
    "import json \n",
    "import numpy as np\n",
    "import re"
   ]
  },
  {
   "cell_type": "code",
   "execution_count": 3,
   "metadata": {},
   "outputs": [],
   "source": [
    "from scipy import sparse, io\n",
    "import os\n",
    "import json\n",
    "import joblib\n",
    "import csv\n",
    "\n",
    "import collections\n",
    "from collections import Counter\n",
    "import itertools\n",
    "\n"
   ]
  },
  {
   "cell_type": "code",
   "execution_count": null,
   "metadata": {},
   "outputs": [],
   "source": []
  },
  {
   "cell_type": "code",
   "execution_count": 33,
   "metadata": {},
   "outputs": [],
   "source": [
    "# Build vocab\n",
    "\n",
    "filename = \"data/js-150k/programs_training_valid.json\"\n",
    "global_id = 0\n",
    "n_edges = 0\n",
    "snippet_count = 0\n",
    "var_map = {}\n",
    "name = 'test_js'\n",
    "max_len = 128\n",
    "out_path = 'data/js-150k/data'\n",
    "if not os.path.exists(out_path):\n",
    "    os.makedirs(out_path)\n",
    "vocab = Counter()\n",
    "\n",
    "with open(filename, 'r', encoding=\"ISO-8859-1\") as f:\n",
    "    for idx, line in enumerate(f):\n",
    "        data = json.loads(line[:-6]+\"]\")\n",
    "        for r in data:\n",
    "            if type(r) == int:\n",
    "                break\n",
    "            \n",
    "            if r['type'] in ['Identifier', 'Property']:\n",
    "                if r.get('value', None) is not None:\n",
    "                    #print(r['value'])\n",
    "                    if len(w.split(' ')) > 1:\n",
    "                        w = 'Property'\n",
    "                    else:\n",
    "                        w = str(r['value'])\n",
    "                else:\n",
    "                    w = r['type']\n",
    "                    #break\n",
    "            else:\n",
    "                w = r['type']\n",
    "\n",
    "            vocab.update([w])\n",
    "        if idx > 10000:\n",
    "            break"
   ]
  },
  {
   "cell_type": "code",
   "execution_count": 34,
   "metadata": {},
   "outputs": [
    {
     "data": {
      "text/plain": [
       "225619"
      ]
     },
     "execution_count": 34,
     "metadata": {},
     "output_type": "execute_result"
    }
   ],
   "source": [
    "len(vocab)"
   ]
  },
  {
   "cell_type": "code",
   "execution_count": 35,
   "metadata": {},
   "outputs": [],
   "source": [
    "vocab_filt = {x : vocab[x] for x in vocab if vocab[x] >= 5}\n",
    "\n",
    "vocab_low = [v.lower() for v in vocab]\n"
   ]
  },
  {
   "cell_type": "code",
   "execution_count": 27,
   "metadata": {},
   "outputs": [],
   "source": [
    "token_types = {'ArrayAccess',\n",
    " 'ArrayExpression',\n",
    " 'AssignmentExpression',\n",
    " 'BinaryExpression',\n",
    " 'BlockStatement',\n",
    " 'BreakStatement',\n",
    " 'CallExpression',\n",
    " 'CatchClause',\n",
    " 'ConditionalExpression',\n",
    " 'ContinueStatement',\n",
    " 'DoWhileStatement',\n",
    " 'EmptyStatement',\n",
    " 'ExpressionStatement',\n",
    " 'ForInStatement',\n",
    " 'ForStatement',\n",
    " 'FunctionDeclaration',\n",
    " 'FunctionExpression',\n",
    " 'Identifier',\n",
    " 'IfStatement',\n",
    " 'LabeledStatement',\n",
    " 'LiteralBoolean',\n",
    " 'LiteralNull',\n",
    " 'LiteralNumber',\n",
    " 'LiteralRegExp',\n",
    " 'LiteralString',\n",
    " 'LogicalExpression',\n",
    " 'MemberExpression',\n",
    " 'NewExpression',\n",
    " 'ObjectExpression',\n",
    " 'Program',\n",
    " 'Property',\n",
    " 'ReturnStatement',\n",
    " 'SequenceExpression',\n",
    " 'SwitchCase',\n",
    " 'SwitchStatement',\n",
    " 'ThisExpression',\n",
    " 'ThrowStatement',\n",
    " 'TryStatement',\n",
    " 'UnaryExpression',\n",
    " 'UpdateExpression',\n",
    " 'VariableDeclaration',\n",
    " 'VariableDeclarator',\n",
    " 'WhileStatement'}\n"
   ]
  },
  {
   "cell_type": "code",
   "execution_count": 28,
   "metadata": {},
   "outputs": [
    {
     "name": "stdout",
     "output_type": "stream",
     "text": [
      "thisexpression\n",
      "variabledeclarator\n",
      "literalnull\n",
      "literalnumber\n",
      "arrayexpression\n",
      "identifier\n",
      "breakstatement\n",
      "logicalexpression\n",
      "updateexpression\n",
      "ifstatement\n",
      "functionexpression\n",
      "objectexpression\n",
      "expressionstatement\n",
      "forinstatement\n",
      "callexpression\n",
      "memberexpression\n",
      "binaryexpression\n",
      "whilestatement\n",
      "throwstatement\n",
      "returnstatement\n",
      "forstatement\n",
      "sequenceexpression\n",
      "program\n",
      "continuestatement\n",
      "functiondeclaration\n",
      "literalregexp\n",
      "catchclause\n",
      "switchcase\n",
      "property\n",
      "emptystatement\n",
      "blockstatement\n",
      "literalboolean\n",
      "arrayaccess\n",
      "trystatement\n",
      "switchstatement\n",
      "variabledeclaration\n",
      "conditionalexpression\n",
      "newexpression\n",
      "unaryexpression\n",
      "labeledstatement\n",
      "literalstring\n",
      "dowhilestatement\n",
      "assignmentexpression\n"
     ]
    }
   ],
   "source": [
    "for k in token_types:\n",
    "    print(k.lower())\n",
    "    "
   ]
  },
  {
   "cell_type": "code",
   "execution_count": 29,
   "metadata": {},
   "outputs": [
    {
     "name": "stdout",
     "output_type": "stream",
     "text": [
      "Vocabulary length:  78746\n"
     ]
    }
   ],
   "source": [
    "with open(os.path.join(out_path, 'js-vocab-10k.txt'), 'a') as f:\n",
    "    f.write(\"[PAD]\\n\")\n",
    "    f.write(\"[UNK]\\n\")\n",
    "    f.write(\"[CLS]\\n\")\n",
    "    f.write(\"[SEP]\\n\")\n",
    "    f.write(\"[MASK]\\n\")\n",
    "    voc = list(vocab_filt.keys())\n",
    "    for v in voc:\n",
    "        f.write(v.lower())\n",
    "        f.write('\\n')\n",
    "    for k in token_types:\n",
    "        f.write(k.lower())\n",
    "        f.write('\\n')\n",
    "        \n",
    "    print(\"Vocabulary length: \", len(voc)+5)"
   ]
  },
  {
   "cell_type": "code",
   "execution_count": 30,
   "metadata": {},
   "outputs": [
    {
     "data": {
      "text/plain": [
       "0"
      ]
     },
     "execution_count": 30,
     "metadata": {},
     "output_type": "execute_result"
    }
   ],
   "source": [
    "vocab['AssignmentPattern']"
   ]
  },
  {
   "cell_type": "code",
   "execution_count": null,
   "metadata": {},
   "outputs": [],
   "source": []
  },
  {
   "cell_type": "code",
   "execution_count": null,
   "metadata": {},
   "outputs": [],
   "source": []
  },
  {
   "cell_type": "code",
   "execution_count": 31,
   "metadata": {
    "scrolled": true
   },
   "outputs": [
    {
     "data": {
      "text/plain": [
       "[('MemberExpression', 2110851),\n",
       " ('CallExpression', 1058498),\n",
       " ('ExpressionStatement', 1013873),\n",
       " ('LiteralString', 928069),\n",
       " ('LiteralNumber', 919992),\n",
       " ('BlockStatement', 745315),\n",
       " ('BinaryExpression', 632419),\n",
       " ('AssignmentExpression', 600555),\n",
       " ('VariableDeclarator', 521423),\n",
       " ('ThisExpression', 416169),\n",
       " ('VariableDeclaration', 360087),\n",
       " ('IfStatement', 306584),\n",
       " ('FunctionExpression', 275732),\n",
       " ('ArrayAccess', 271539),\n",
       " ('ReturnStatement', 226041),\n",
       " ('LogicalExpression', 199677),\n",
       " ('ObjectExpression', 173595),\n",
       " ('UnaryExpression', 153274),\n",
       " ('ArrayExpression', 124574),\n",
       " ('i', 120445),\n",
       " ('LiteralBoolean', 119212),\n",
       " ('length', 76384),\n",
       " ('value', 69717),\n",
       " ('LiteralNull', 60476),\n",
       " ('elem', 58980),\n",
       " ('name', 58588),\n",
       " ('ConditionalExpression', 58409),\n",
       " ('type', 54362),\n",
       " ('jQuery', 51213),\n",
       " ('SwitchCase', 50003),\n",
       " ('prototype', 49162),\n",
       " ('FunctionDeclaration', 46601),\n",
       " ('options', 46410),\n",
       " ('NewExpression', 45347),\n",
       " ('UpdateExpression', 44777),\n",
       " ('e', 43959),\n",
       " ('data', 43297),\n",
       " ('$', 40992),\n",
       " ('goog', 33987),\n",
       " ('BreakStatement', 31282),\n",
       " ('node', 31260),\n",
       " ('ForStatement', 29526),\n",
       " ('self', 29143),\n",
       " ('push', 28059),\n",
       " ('x', 27561),\n",
       " ('event', 27333),\n",
       " ('key', 27307),\n",
       " ('EmptyStatement', 27127),\n",
       " ('id', 25391),\n",
       " ('require', 24444),\n",
       " ('LiteralRegExp', 23929),\n",
       " ('element', 23565),\n",
       " ('index', 22614),\n",
       " ('obj', 21949),\n",
       " ('a', 21665),\n",
       " ('context', 21439),\n",
       " ('call', 20370),\n",
       " ('fn', 20320),\n",
       " ('s', 20095),\n",
       " ('y', 19791),\n",
       " ('o', 19138),\n",
       " ('test', 18836),\n",
       " ('val', 18735),\n",
       " ('callback', 18693),\n",
       " ('HEAP32', 18561),\n",
       " ('t', 18174),\n",
       " ('document', 17864),\n",
       " ('style', 17762),\n",
       " ('match', 17550),\n",
       " ('result', 17521),\n",
       " ('selector', 16931),\n",
       " ('undefined', 16900),\n",
       " ('__label__', 16851),\n",
       " ('arguments', 16619),\n",
       " ('b', 16218),\n",
       " ('Math', 16033),\n",
       " ('get', 15989),\n",
       " ('exports', 15769),\n",
       " ('state', 15674),\n",
       " ('c', 15621),\n",
       " ('args', 15510),\n",
       " ('text', 15378),\n",
       " ('width', 15249),\n",
       " ('j', 15089),\n",
       " ('window', 14976),\n",
       " ('target', 14735),\n",
       " ('start', 13989),\n",
       " ('n', 13783),\n",
       " ('assert', 13615),\n",
       " ('replace', 13457),\n",
       " ('doc', 13086),\n",
       " ('height', 13018),\n",
       " ('url', 12968),\n",
       " ('p', 12956),\n",
       " ('config', 12886),\n",
       " ('d', 12869),\n",
       " ('WhileStatement', 12763),\n",
       " ('row', 12566),\n",
       " ('attr', 12518),\n",
       " ('ret', 12357)]"
      ]
     },
     "execution_count": 31,
     "metadata": {},
     "output_type": "execute_result"
    }
   ],
   "source": [
    "vocab.most_common(100)"
   ]
  },
  {
   "cell_type": "code",
   "execution_count": 22,
   "metadata": {},
   "outputs": [
    {
     "data": {
      "text/plain": [
       "18"
      ]
     },
     "execution_count": 22,
     "metadata": {},
     "output_type": "execute_result"
    }
   ],
   "source": [
    "vocab['testcase']"
   ]
  },
  {
   "cell_type": "code",
   "execution_count": 32,
   "metadata": {
    "scrolled": true
   },
   "outputs": [
    {
     "name": "stdout",
     "output_type": "stream",
     "text": [
      "this {'id': 567, 'type': 'Property', 'value': 'this', 'children': [568]}\n",
      "this {'id': 603, 'type': 'Property', 'value': 'this', 'children': [604]}\n",
      "this {'id': 116, 'type': 'Property', 'value': 'this', 'children': [117]}\n",
      "this {'id': 132, 'type': 'Property', 'value': 'this', 'children': [133]}\n",
      "this {'id': 417, 'type': 'Property', 'value': 'this'}\n",
      "this {'id': 84, 'type': 'Property', 'value': 'this', 'children': [85]}\n",
      "this {'id': 169, 'type': 'Property', 'value': 'this', 'children': [170]}\n",
      "this {'id': 732, 'type': 'Property', 'value': 'this', 'children': [733]}\n",
      "this {'id': 126, 'type': 'Property', 'value': 'this', 'children': [127]}\n",
      "this {'id': 142, 'type': 'Property', 'value': 'this', 'children': [143]}\n",
      "this {'id': 329, 'type': 'Property', 'value': 'this', 'children': [330]}\n",
      "this {'id': 345, 'type': 'Property', 'value': 'this', 'children': [346]}\n",
      "this {'id': 612, 'type': 'Property', 'value': 'this', 'children': [613]}\n",
      "this {'id': 634, 'type': 'Property', 'value': 'this', 'children': [635]}\n",
      "this {'id': 756, 'type': 'Property', 'value': 'this', 'children': [757]}\n",
      "this {'id': 764, 'type': 'Property', 'value': 'this', 'children': [765]}\n",
      "this {'id': 810, 'type': 'Property', 'value': 'this', 'children': [811]}\n",
      "this {'id': 939, 'type': 'Property', 'value': 'this', 'children': [940]}\n",
      "this {'id': 957, 'type': 'Property', 'value': 'this', 'children': [958]}\n",
      "this {'id': 1045, 'type': 'Property', 'value': 'this', 'children': [1046]}\n",
      "this {'id': 1142, 'type': 'Property', 'value': 'this', 'children': [1143]}\n",
      "this {'id': 1540, 'type': 'Property', 'value': 'this', 'children': [1541]}\n",
      "this {'id': 1642, 'type': 'Property', 'value': 'this', 'children': [1643]}\n",
      "this {'id': 1664, 'type': 'Property', 'value': 'this', 'children': [1665]}\n",
      "this {'id': 1674, 'type': 'Property', 'value': 'this', 'children': [1675]}\n",
      "this {'id': 1728, 'type': 'Property', 'value': 'this', 'children': [1729]}\n",
      "this {'id': 1744, 'type': 'Property', 'value': 'this', 'children': [1745]}\n",
      "this {'id': 1783, 'type': 'Property', 'value': 'this', 'children': [1784]}\n",
      "this {'id': 1802, 'type': 'Property', 'value': 'this', 'children': [1803]}\n",
      "this {'id': 1832, 'type': 'Property', 'value': 'this', 'children': [1833]}\n",
      "this {'id': 1850, 'type': 'Property', 'value': 'this', 'children': [1851]}\n",
      "this {'id': 1866, 'type': 'Property', 'value': 'this', 'children': [1867]}\n",
      "this {'id': 790, 'type': 'Property', 'value': 'this', 'children': [791]}\n",
      "this {'id': 249, 'type': 'Property', 'value': 'this', 'children': [250]}\n",
      "this {'id': 596, 'type': 'Property', 'value': 'this', 'children': [597]}\n",
      "this {'id': 1043, 'type': 'Property', 'value': 'this', 'children': [1044]}\n",
      "this {'id': 1110, 'type': 'Property', 'value': 'this', 'children': [1111]}\n",
      "this {'id': 1142, 'type': 'Property', 'value': 'this', 'children': [1143]}\n",
      "this {'id': 1176, 'type': 'Property', 'value': 'this', 'children': [1177]}\n",
      "this {'id': 1210, 'type': 'Property', 'value': 'this', 'children': [1211]}\n",
      "this {'id': 1258, 'type': 'Property', 'value': 'this', 'children': [1259]}\n",
      "this {'id': 1292, 'type': 'Property', 'value': 'this', 'children': [1293]}\n",
      "this {'id': 1326, 'type': 'Property', 'value': 'this', 'children': [1327]}\n",
      "this {'id': 1482, 'type': 'Property', 'value': 'this', 'children': [1483]}\n",
      "this {'id': 1550, 'type': 'Property', 'value': 'this', 'children': [1551]}\n",
      "this {'id': 6, 'type': 'Property', 'value': 'this', 'children': [7]}\n",
      "this {'id': 88, 'type': 'Property', 'value': 'this', 'children': [89]}\n",
      "this {'id': 287, 'type': 'Property', 'value': 'this', 'children': [288]}\n",
      "this {'id': 297, 'type': 'Property', 'value': 'this', 'children': [298]}\n",
      "this {'id': 313, 'type': 'Property', 'value': 'this', 'children': [314]}\n",
      "this {'id': 164, 'type': 'Property', 'value': 'this', 'children': [165]}\n",
      "this {'id': 1004, 'type': 'Property', 'value': 'this', 'children': [1005]}\n",
      "this {'id': 824, 'type': 'Property', 'value': 'this', 'children': [825]}\n",
      "this {'id': 836, 'type': 'Property', 'value': 'this', 'children': [837]}\n",
      "this {'id': 844, 'type': 'Property', 'value': 'this', 'children': [845]}\n",
      "this {'id': 1087, 'type': 'Property', 'value': 'this', 'children': [1088]}\n",
      "this {'id': 1099, 'type': 'Property', 'value': 'this', 'children': [1100]}\n",
      "this {'id': 2757, 'type': 'Property', 'value': 'this', 'children': [2758]}\n",
      "this {'id': 2775, 'type': 'Property', 'value': 'this', 'children': [2776]}\n",
      "this {'id': 2895, 'type': 'Property', 'value': 'this', 'children': [2896]}\n",
      "this {'id': 2913, 'type': 'Property', 'value': 'this', 'children': [2914]}\n",
      "this {'id': 7574, 'type': 'Property', 'value': 'this', 'children': [7575]}\n",
      "this {'id': 8070, 'type': 'Property', 'value': 'this', 'children': [8071]}\n",
      "this {'id': 8084, 'type': 'Property', 'value': 'this', 'children': [8085]}\n",
      "this {'id': 104, 'type': 'Property', 'value': 'this', 'children': [105]}\n",
      "this {'id': 162, 'type': 'Property', 'value': 'this', 'children': [163]}\n",
      "this {'id': 186, 'type': 'Property', 'value': 'this', 'children': [187]}\n",
      "this {'id': 137, 'type': 'Property', 'value': 'this', 'children': [138]}\n",
      "this {'id': 1205, 'type': 'Property', 'value': 'this', 'children': [1206]}\n",
      "this {'id': 294, 'type': 'Property', 'value': 'this', 'children': [295]}\n",
      "this {'id': 324, 'type': 'Property', 'value': 'this', 'children': [325]}\n",
      "this {'id': 346, 'type': 'Property', 'value': 'this', 'children': [347]}\n",
      "this {'id': 364, 'type': 'Property', 'value': 'this', 'children': [365]}\n",
      "this {'id': 382, 'type': 'Property', 'value': 'this', 'children': [383]}\n",
      "this {'id': 396, 'type': 'Property', 'value': 'this', 'children': [397]}\n",
      "this {'id': 410, 'type': 'Property', 'value': 'this', 'children': [411]}\n",
      "this {'id': 448, 'type': 'Property', 'value': 'this', 'children': [449]}\n",
      "this {'id': 458, 'type': 'Property', 'value': 'this', 'children': [459]}\n",
      "this {'id': 468, 'type': 'Property', 'value': 'this', 'children': [469]}\n",
      "this {'id': 542, 'type': 'Property', 'value': 'this', 'children': [543]}\n",
      "this {'id': 558, 'type': 'Property', 'value': 'this', 'children': [559]}\n",
      "this {'id': 621, 'type': 'Property', 'value': 'this', 'children': [622]}\n",
      "this {'id': 652, 'type': 'Property', 'value': 'this', 'children': [653]}\n",
      "this {'id': 683, 'type': 'Property', 'value': 'this', 'children': [684]}\n",
      "this {'id': 714, 'type': 'Property', 'value': 'this', 'children': [715]}\n",
      "this {'id': 836, 'type': 'Property', 'value': 'this', 'children': [837]}\n",
      "this {'id': 953, 'type': 'Property', 'value': 'this', 'children': [954]}\n",
      "this {'id': 989, 'type': 'Property', 'value': 'this', 'children': [990]}\n",
      "this {'id': 185, 'type': 'Property', 'value': 'this', 'children': [186]}\n",
      "this {'id': 209, 'type': 'Property', 'value': 'this', 'children': [210]}\n",
      "this {'id': 57, 'type': 'Property', 'value': 'this', 'children': [58]}\n",
      "this {'id': 209, 'type': 'Property', 'value': 'this', 'children': [210]}\n",
      "this {'id': 1049, 'type': 'Property', 'value': 'this', 'children': [1050]}\n",
      "this {'id': 145, 'type': 'Property', 'value': 'this', 'children': [146]}\n",
      "this {'id': 167, 'type': 'Property', 'value': 'this', 'children': [168]}\n",
      "this {'id': 179, 'type': 'Property', 'value': 'this', 'children': [180]}\n",
      "this {'id': 18, 'type': 'Property', 'value': 'this', 'children': [19]}\n",
      "this {'id': 640, 'type': 'Property', 'value': 'this', 'children': [641]}\n",
      "this {'id': 155, 'type': 'Property', 'value': 'this', 'children': [156]}\n",
      "this {'id': 726, 'type': 'Property', 'value': 'this', 'children': [727]}\n",
      "this {'id': 740, 'type': 'Property', 'value': 'this', 'children': [741]}\n",
      "this {'id': 1089, 'type': 'Property', 'value': 'this', 'children': [1090]}\n",
      "this {'id': 1103, 'type': 'Property', 'value': 'this', 'children': [1104]}\n",
      "this {'id': 1159, 'type': 'Property', 'value': 'this', 'children': [1160]}\n",
      "this {'id': 2804, 'type': 'Property', 'value': 'this', 'children': [2805]}\n",
      "this {'id': 2822, 'type': 'Property', 'value': 'this', 'children': [2823]}\n",
      "this {'id': 4026, 'type': 'Property', 'value': 'this', 'children': [4027]}\n",
      "this {'id': 4040, 'type': 'Property', 'value': 'this', 'children': [4041]}\n",
      "this {'id': 4052, 'type': 'Property', 'value': 'this', 'children': [4053]}\n",
      "this {'id': 4060, 'type': 'Property', 'value': 'this', 'children': [4061]}\n",
      "this {'id': 4074, 'type': 'Property', 'value': 'this', 'children': [4075]}\n",
      "this {'id': 4344, 'type': 'Property', 'value': 'this', 'children': [4345]}\n",
      "this {'id': 4358, 'type': 'Property', 'value': 'this', 'children': [4359]}\n",
      "this {'id': 4370, 'type': 'Property', 'value': 'this', 'children': [4371]}\n",
      "this {'id': 4378, 'type': 'Property', 'value': 'this', 'children': [4379]}\n",
      "this {'id': 4392, 'type': 'Property', 'value': 'this', 'children': [4393]}\n"
     ]
    },
    {
     "name": "stdout",
     "output_type": "stream",
     "text": [
      "this {'id': 27956, 'type': 'Property', 'value': 'this', 'children': [27957]}\n",
      "this {'id': 3103, 'type': 'Property', 'value': 'this'}\n",
      "this {'id': 642, 'type': 'Property', 'value': 'this', 'children': [643]}\n",
      "this {'id': 110433, 'type': 'Property', 'value': 'this', 'children': [110434]}\n"
     ]
    }
   ],
   "source": [
    "filename = \"data/js-150k/programs_training_valid.json\"\n",
    "global_id = 0\n",
    "n_edges = 0\n",
    "snippet_count = 0\n",
    "#var_map = {}\n",
    "name = 'test_js'\n",
    "max_len = 128\n",
    "out_path = 'data/js-150k/data'\n",
    "if not os.path.exists(out_path):\n",
    "    os.makedirs(out_path)\n",
    "#vocab = set()\n",
    "\n",
    "with open(filename, 'r', encoding=\"ISO-8859-1\") as f:\n",
    "    for idx, line in enumerate(f):\n",
    "        data = json.loads(line[:-6]+\"]\")\n",
    "        G=nx.Graph()\n",
    "        row = [\"[CLS]\"]; row_order = [\"[CLS]\"]\n",
    "        for r in data:\n",
    "            #print(r)\n",
    "            if type(r) == int:\n",
    "                break\n",
    "            from_node = r['id']\n",
    "            if r['type'] in ['Identifier', 'Property']:\n",
    "                if r.get('value', None) is not None:\n",
    "                    if (vocab[r['value']] >= 5):\n",
    "                        w = str(r['value'])\n",
    "                    else: \n",
    "                        w = r['type']\n",
    "                    #var_map[str(from_node)] = w\n",
    "                else:\n",
    "                    w = r['type']\n",
    "            else:\n",
    "                w = r['type']\n",
    "            \n",
    "            if w == 'this':\n",
    "                print(w, r)\n",
    "                \n",
    "            row.append(w)\n",
    "\n",
    "            for to_node in r.get('children', []):\n",
    "                n_edges += 1\n",
    "                G.add_edge(from_node, to_node)\n",
    "            if G.number_of_nodes() > max_len:\n",
    "                break\n",
    "                \n",
    "        if G.number_of_nodes() < max_len:\n",
    "            # Save tk\n",
    "            # print(row)\n",
    "            with open(os.path.join(out_path, str(snippet_count)+\"_\"+name+'_tk.txt'), 'a') as f:\n",
    "                f.write(' '.join(row))\n",
    "                sep='\\n\\n'\n",
    "                f.write(sep)\n",
    "                    \n",
    "            # Save adj\n",
    "            G_u = G.to_undirected()\n",
    "            adj = nx.adj_matrix(G_u).todense()\n",
    "            \n",
    "            final = np.zeros((max_len,max_len), dtype=int)\n",
    "            final[1:adj.shape[0]+1, 1:adj.shape[1]+1] = adj\n",
    "            final += np.eye(max_len, dtype=int)\n",
    "            final[:,0] = np.ones(max_len)\n",
    "            final[0,:] = np.ones(max_len)\n",
    "            \n",
    "            m = sparse.csr_matrix(final)\n",
    "            sparsedir = os.path.join(out_path, 'adj')\n",
    "            if not os.path.exists(sparsedir):\n",
    "                os.makedirs(sparsedir)\n",
    "            io.mmwrite(os.path.join(sparsedir, str(snippet_count)+\"_\"+name+\"_adj.mtx\"), m)\n",
    "            snippet_count += 1\n",
    "        if idx > 10000:\n",
    "            break"
   ]
  },
  {
   "cell_type": "code",
   "execution_count": null,
   "metadata": {},
   "outputs": [],
   "source": []
  },
  {
   "cell_type": "code",
   "execution_count": null,
   "metadata": {},
   "outputs": [],
   "source": [
    "snippet_count"
   ]
  },
  {
   "cell_type": "code",
   "execution_count": 9,
   "metadata": {},
   "outputs": [],
   "source": [
    "vocab_filt = {x : vocab[x] for x in vocab if vocab[x] >= 5}"
   ]
  },
  {
   "cell_type": "code",
   "execution_count": 14,
   "metadata": {},
   "outputs": [
    {
     "data": {
      "text/plain": [
       "0"
      ]
     },
     "execution_count": 14,
     "metadata": {},
     "output_type": "execute_result"
    }
   ],
   "source": [
    "vocab['SetViewValue']"
   ]
  },
  {
   "cell_type": "code",
   "execution_count": 15,
   "metadata": {},
   "outputs": [],
   "source": [
    "vocab_low = [v.lower() for v in vocab]"
   ]
  },
  {
   "cell_type": "code",
   "execution_count": 17,
   "metadata": {},
   "outputs": [
    {
     "data": {
      "text/plain": [
       "False"
      ]
     },
     "execution_count": 17,
     "metadata": {},
     "output_type": "execute_result"
    }
   ],
   "source": [
    "'setviewvalue' in vocab_low"
   ]
  },
  {
   "cell_type": "code",
   "execution_count": 11,
   "metadata": {},
   "outputs": [
    {
     "name": "stdout",
     "output_type": "stream",
     "text": [
      "Vocabulary length:  13530\n"
     ]
    }
   ],
   "source": [
    "with open(os.path.join(out_path, 'js-vocab.txt'), 'a') as f:\n",
    "    f.write(\"[PAD]\\n\")\n",
    "    f.write(\"[UNK]\\n\")\n",
    "    f.write(\"[CLS]\\n\")\n",
    "    f.write(\"[SEP]\\n\")\n",
    "    f.write(\"[MASK]\\n\")\n",
    "    voc = list(vocab_filt.keys())\n",
    "    for v in voc:\n",
    "        f.write(v.lower())\n",
    "        f.write('\\n')\n",
    "        \n",
    "    print(\"Vocabulary length: \", len(voc)+5)"
   ]
  },
  {
   "cell_type": "code",
   "execution_count": 28,
   "metadata": {},
   "outputs": [
    {
     "data": {
      "text/plain": [
       "[('HEAP32', 20415),\n",
       " ('__label__', 17600),\n",
       " ('ol', 13674),\n",
       " ('goog', 12344),\n",
       " ('prototype', 9581),\n",
       " ('STRING_TABLE', 9068),\n",
       " ('i', 8434),\n",
       " ('allocate', 6444),\n",
       " ('ALLOC_STATIC', 6373),\n",
       " ('name', 5675),\n",
       " ('type', 5167),\n",
       " ('length', 4573),\n",
       " ('options', 4484),\n",
       " ('description', 4375),\n",
       " ('x', 4262),\n",
       " ('tempDoubleI32', 4125),\n",
       " ('value', 3894),\n",
       " ('node', 3244),\n",
       " ('y', 2929),\n",
       " ('n', 2907),\n",
       " ('undef', 2596),\n",
       " ('format', 2550),\n",
       " ('require', 2514),\n",
       " ('_color_lib', 2493),\n",
       " ('source', 2488),\n",
       " ('exportProperty', 2440),\n",
       " ('c', 2347),\n",
       " ('e', 2313),\n",
       " ('style', 2230),\n",
       " ('tempDoubleF64', 2080),\n",
       " ('occurrence', 1881),\n",
       " ('i1', 1794),\n",
       " ('that', 1667),\n",
       " ('a', 1637),\n",
       " ('jQuery', 1548),\n",
       " ('elem', 1517),\n",
       " ('push', 1504),\n",
       " ('assert', 1488),\n",
       " ('tempInt', 1482),\n",
       " ('HEAP8', 1421),\n",
       " ('math', 1419),\n",
       " ('p', 1384),\n",
       " ('cm', 1370),\n",
       " ('b', 1350),\n",
       " ('$2', 1329),\n",
       " ('$1', 1323),\n",
       " ('Math', 1312),\n",
       " ('AST$', 1293),\n",
       " ('exports', 1254),\n",
       " ('index', 1254),\n",
       " ('geom', 1253),\n",
       " ('t', 1214),\n",
       " ('data', 1188),\n",
       " ('width', 1187),\n",
       " ('other', 1182),\n",
       " ('layer', 1170),\n",
       " ('xml', 1167),\n",
       " ('STACKTOP', 1159),\n",
       " ('key', 1145),\n",
       " ('isDocumented', 1135),\n",
       " ('errors', 1127),\n",
       " ('arity', 1083),\n",
       " ('annotations', 1082),\n",
       " ('updating', 1082),\n",
       " ('s', 1075),\n",
       " ('interaction', 1068),\n",
       " ('summary', 1065),\n",
       " ('signature', 1062),\n",
       " ('annotation_str', 1056),\n",
       " ('height', 1055),\n",
       " ('qname', 1048),\n",
       " ('color', 1041),\n",
       " ('parameters', 1040),\n",
       " ('returns', 1037),\n",
       " ('element', 1027),\n",
       " ('__webpack_require__', 1017),\n",
       " ('i2', 1014),\n",
       " ('doc', 970),\n",
       " ('r', 966),\n",
       " ('call', 939),\n",
       " ('isDef', 938),\n",
       " ('result', 936),\n",
       " ('module', 929),\n",
       " ('asserts', 912),\n",
       " ('context', 906),\n",
       " ('$job', 895),\n",
       " ('line', 892),\n",
       " ('opt', 885),\n",
       " ('undefined', 880),\n",
       " ('one', 875),\n",
       " ('range', 874),\n",
       " ('left', 860),\n",
       " ('d', 842),\n",
       " ('$3', 826),\n",
       " ('display', 800),\n",
       " ('i3', 800),\n",
       " ('prefix', 766),\n",
       " ('text', 765),\n",
       " ('v', 746),\n",
       " ('object', 738)]"
      ]
     },
     "execution_count": 28,
     "metadata": {},
     "output_type": "execute_result"
    }
   ],
   "source": [
    "Counter(var_map.values()).most_common(100)"
   ]
  },
  {
   "cell_type": "code",
   "execution_count": 8,
   "metadata": {},
   "outputs": [],
   "source": [
    "flatten = lambda x: [item for sublist in x for item in sublist]\n",
    "cc_split = lambda x: re.sub('(?!^)([A-Z][a-z]+)', r' \\1', x).split()"
   ]
  },
  {
   "cell_type": "code",
   "execution_count": 9,
   "metadata": {},
   "outputs": [],
   "source": [
    "def full_split(v):\n",
    "    sp = cc_split(v)\n",
    "    sp = flatten([ss.split('_') for ss in sp])\n",
    "    sp = flatten([ss.split('-') for ss in sp])\n",
    "    sp = flatten([ss.split('/') for ss in sp])\n",
    "    sp = flatten([ss.split('$') for ss in sp])\n",
    "    return sp\n"
   ]
  },
  {
   "cell_type": "code",
   "execution_count": 10,
   "metadata": {},
   "outputs": [],
   "source": [
    "sub_vocab = set()\n",
    "for v in vocab:\n",
    "    sp = cc_split(v)\n",
    "    sp = flatten([ss.split('_') for ss in sp])\n",
    "    sp = flatten([ss.split('-') for ss in sp])\n",
    "    sp = flatten([ss.split('/') for ss in sp])\n",
    "    sp = flatten([ss.split('$') for ss in sp])\n",
    "\n",
    "    for s in sp:\n",
    "        sub_vocab.add(s)"
   ]
  },
  {
   "cell_type": "code",
   "execution_count": 11,
   "metadata": {},
   "outputs": [
    {
     "data": {
      "text/plain": [
       "65569"
      ]
     },
     "execution_count": 11,
     "metadata": {},
     "output_type": "execute_result"
    }
   ],
   "source": [
    "len(sub_vocab)"
   ]
  },
  {
   "cell_type": "code",
   "execution_count": 13,
   "metadata": {},
   "outputs": [
    {
     "data": {
      "text/plain": [
       "18189888"
      ]
     },
     "execution_count": 13,
     "metadata": {},
     "output_type": "execute_result"
    }
   ],
   "source": [
    "n_edges"
   ]
  },
  {
   "cell_type": "code",
   "execution_count": 14,
   "metadata": {},
   "outputs": [
    {
     "data": {
      "text/plain": [
       "(397, 398)"
      ]
     },
     "execution_count": 14,
     "metadata": {},
     "output_type": "execute_result"
    }
   ],
   "source": [
    "G.number_of_edges(), G.number_of_nodes()"
   ]
  },
  {
   "cell_type": "code",
   "execution_count": 61,
   "metadata": {},
   "outputs": [
    {
     "data": {
      "text/plain": [
       "'[ { \"id\":0, \"type\":\"Program\", \"children\":[1,3,20,25,61] }, { \"id\":1, \"type\":\"ExpressionStatement\", \"children\":[2] }, { \"id\":2, \"type\":\"LiteralString\", \"value\":\"use strict\" }, { \"id\":3, \"type\":\"VariableDeclaration\", \"children\":[4,8,12,16] }, { \"id\":4, \"type\":\"VariableDeclarator\", \"value\":\"jsonFile\", \"children\":[5] }, { \"id\":5, \"type\":\"CallExpression\", \"children\":[6,7] }, { \"id\":6, \"type\":\"Identifier\", \"value\":\"require\" }, { \"id\":7, \"type\":\"LiteralString\", \"value\":\"jsonfile\" }, { \"id\":8, \"type\":\"VariableDeclarator\", \"value\":\"fs\", \"children\":[9] }, { \"id\":9, \"type\":\"CallExpression\", \"children\":[10,11] }, { \"id\":10, \"type\":\"Identifier\", \"value\":\"require\" }, { \"id\":11, \"type\":\"LiteralString\", \"value\":\"fs\" }, { \"id\":12, \"type\":\"VariableDeclarator\", \"value\":\"mkdir\", \"children\":[13] }, { \"id\":13, \"type\":\"CallExpression\", \"children\":[14,15] }, { \"id\":14, \"type\":\"Identifier\", \"value\":\"require\" }, { \"id\":15, \"type\":\"LiteralString\", \"value\":\"./mkdir\" }, { \"id\":16, \"type\":\"VariableDeclarator\", \"value\":\"path\", \"children\":[17] }, { \"id\":17, \"type\":\"CallExpression\", \"children\":[18,19] }, { \"id\":18, \"type\":\"Identifier\", \"value\":\"require\" }, { \"id\":19, \"type\":\"LiteralString\", \"value\":\"path\" }, { \"id\":20, \"type\":\"VariableDeclaration\", \"children\":[21] }, { \"id\":21, \"type\":\"VariableDeclarator\", \"value\":\"me\", \"children\":[22] }, { \"id\":22, \"type\":\"MemberExpression\", \"children\":[23,24] }, { \"id\":23, \"type\":\"Identifier\", \"value\":\"module\" }, { \"id\":24, \"type\":\"Property\", \"value\":\"exports\" }, { \"id\":25, \"type\":\"ExpressionStatement\", \"children\":[26] }, { \"id\":26, \"type\":\"AssignmentExpression\", \"children\":[27,30] }, { \"id\":27, \"type\":\"MemberExpression\", \"children\":[28,29] }, { \"id\":28, \"type\":\"Identifier\", \"value\":\"me\" }, { \"id\":29, \"type\":\"Property\", \"value\":\"outputJsonSync\" }, { \"id\":30, \"type\":\"FunctionExpression\", \"children\":[31,32,33] }, { \"id\":31, \"type\":\"Identifier\", \"value\":\"file\" }, { \"id\":32, \"type\":\"Identifier\", \"value\":\"data\" }, { \"id\":33, \"type\":\"BlockStatement\", \"children\":[34,41,54] }, { \"id\":34, \"type\":\"VariableDeclaration\", \"children\":[35] }, { \"id\":35, \"type\":\"VariableDeclarator\", \"value\":\"dir\", \"children\":[36] }, { \"id\":36, \"type\":\"CallExpression\", \"children\":[37,40] }, { \"id\":37, \"type\":\"MemberExpression\", \"children\":[38,39] }, { \"id\":38, \"type\":\"Identifier\", \"value\":\"path\" }, { \"id\":39, \"type\":\"Property\", \"value\":\"dirname\" }, { \"id\":40, \"type\":\"Identifier\", \"value\":\"file\" }, { \"id\":41, \"type\":\"IfStatement\", \"children\":[42,48] }, { \"id\":42, \"type\":\"UnaryExpression\", \"value\":\"!\", \"children\":[43] }, { \"id\":43, \"type\":\"CallExpression\", \"children\":[44,47] }, { \"id\":44, \"type\":\"MemberExpression\", \"children\":[45,46] }, { \"id\":45, \"type\":\"Identifier\", \"value\":\"fs\" }, { \"id\":46, \"type\":\"Property\", \"value\":\"existsSync\" }, { \"id\":47, \"type\":\"Identifier\", \"value\":\"dir\" }, { \"id\":48, \"type\":\"ExpressionStatement\", \"children\":[49] }, { \"id\":49, \"type\":\"CallExpression\", \"children\":[50,53] }, { \"id\":50, \"type\":\"MemberExpression\", \"children\":[51,52] }, { \"id\":51, \"type\":\"Identifier\", \"value\":\"mkdir\" }, { \"id\":52, \"type\":\"Property\", \"value\":\"mkdirsSync\" }, { \"id\":53, \"type\":\"Identifier\", \"value\":\"dir\" }, { \"id\":54, \"type\":\"ExpressionStatement\", \"children\":[55] }, { \"id\":55, \"type\":\"CallExpression\", \"children\":[56,59,60] }, { \"id\":56, \"type\":\"MemberExpression\", \"children\":[57,58] }, { \"id\":57, \"type\":\"Identifier\", \"value\":\"jsonFile\" }, { \"id\":58, \"type\":\"Property\", \"value\":\"writeFileSync\" }, { \"id\":59, \"type\":\"Identifier\", \"value\":\"file\" }, { \"id\":60, \"type\":\"Identifier\", \"value\":\"data\" }, { \"id\":61, \"type\":\"ExpressionStatement\", \"children\":[62] }, { \"id\":62, \"type\":\"AssignmentExpression\", \"children\":[63,66] }, { \"id\":63, \"type\":\"MemberExpression\", \"children\":[64,65] }, { \"id\":64, \"type\":\"Identifier\", \"value\":\"me\" }, { \"id\":65, \"type\":\"Property\", \"value\":\"outputJson\" }, { \"id\":66, \"type\":\"FunctionExpression\", \"children\":[67,68,69,70] }, { \"id\":67, \"type\":\"Identifier\", \"value\":\"file\" }, { \"id\":68, \"type\":\"Identifier\", \"value\":\"data\" }, { \"id\":69, \"type\":\"Identifier\", \"value\":\"callback\" }, { \"id\":70, \"type\":\"BlockStatement\", \"children\":[71,78] }, { \"id\":71, \"type\":\"VariableDeclaration\", \"children\":[72] }, { \"id\":72, \"type\":\"VariableDeclarator\", \"value\":\"dir\", \"children\":[73] }, { \"id\":73, \"type\":\"CallExpression\", \"children\":[74,77] }, { \"id\":74, \"type\":\"MemberExpression\", \"children\":[75,76] }, { \"id\":75, \"type\":\"Identifier\", \"value\":\"path\" }, { \"id\":76, \"type\":\"Property\", \"value\":\"dirname\" }, { \"id\":77, \"type\":\"Identifier\", \"value\":\"file\" }, { \"id\":78, \"type\":\"ExpressionStatement\", \"children\":[79] }, { \"id\":79, \"type\":\"CallExpression\", \"children\":[80,83,84] }, { \"id\":80, \"type\":\"MemberExpression\", \"children\":[81,82] }, { \"id\":81, \"type\":\"Identifier\", \"value\":\"fs\" }, { \"id\":82, \"type\":\"Property\", \"value\":\"exists\" }, { \"id\":83, \"type\":\"Identifier\", \"value\":\"dir\" }, { \"id\":84, \"type\":\"FunctionExpression\", \"children\":[85,86] }, { \"id\":85, \"type\":\"Identifier\", \"value\":\"itDoes\" }, { \"id\":86, \"type\":\"BlockStatement\", \"children\":[87,97] }, { \"id\":87, \"type\":\"IfStatement\", \"children\":[88,89] }, { \"id\":88, \"type\":\"Identifier\", \"value\":\"itDoes\" }, { \"id\":89, \"type\":\"ReturnStatement\", \"children\":[90] }, { \"id\":90, \"type\":\"CallExpression\", \"children\":[91,94,95,96] }, { \"id\":91, \"type\":\"MemberExpression\", \"children\":[92,93] }, { \"id\":92, \"type\":\"Identifier\", \"value\":\"jsonFile\" }, { \"id\":93, \"type\":\"Property\", \"value\":\"writeFile\" }, { \"id\":94, \"type\":\"Identifier\", \"value\":\"file\" }, { \"id\":95, \"type\":\"Identifier\", \"value\":\"data\" }, { \"id\":96, \"type\":\"Identifier\", \"value\":\"callback\" }, { \"id\":97, \"type\":\"ExpressionStatement\", \"children\":[98] }, { \"id\":98, \"type\":\"CallExpression\", \"children\":[99,102,103] }, { \"id\":99, \"type\":\"MemberExpression\", \"children\":[100,101] }, { \"id\":100, \"type\":\"Identifier\", \"value\":\"mkdir\" }, { \"id\":101, \"type\":\"Property\", \"value\":\"mkdirs\" }, { \"id\":102, \"type\":\"Identifier\", \"value\":\"dir\" }, { \"id\":103, \"type\":\"FunctionExpression\", \"children\":[104,105] }, { \"id\":104, \"type\":\"Identifier\", \"value\":\"err\" }, { \"id\":105, \"type\":\"BlockStatement\", \"children\":[106,112] }, { \"id\":106, \"type\":\"IfStatement\", \"children\":[107,108] }, { \"id\":107, \"type\":\"Identifier\", \"value\":\"err\" }, { \"id\":108, \"type\":\"ReturnStatement\", \"children\":[109] }, { \"id\":109, \"type\":\"CallExpression\", \"children\":[110,111] }, { \"id\":110, \"type\":\"Identifier\", \"value\":\"callback\" }, { \"id\":111, \"type\":\"Identifier\", \"value\":\"err\" }, { \"id\":112, \"type\":\"ExpressionStatement\", \"children\":[113] }, { \"id\":113, \"type\":\"CallExpression\", \"children\":[114,117,118,119] }, { \"id\":114, \"type\":\"MemberExpression\", \"children\":[115,116] }, { \"id\":115, \"type\":\"Identifier\", \"value\":\"jsonFile\" }, { \"id\":116, \"type\":\"Property\", \"value\":\"writeFile\" }, { \"id\":117, \"type\":\"Identifier\", \"value\":\"file\" }, { \"id\":118, \"type\":\"Identifier\", \"value\":\"data\" }, { \"id\":119, \"type\":\"Identifier\", \"value\":\"callback\" }, 0],\\n'"
      ]
     },
     "execution_count": 61,
     "metadata": {},
     "output_type": "execute_result"
    }
   ],
   "source": [
    "line"
   ]
  },
  {
   "cell_type": "code",
   "execution_count": 50,
   "metadata": {},
   "outputs": [
    {
     "data": {
      "image/png": "[encoded data removed]",
      "text/plain": [
       "<Figure size 432x288 with 1 Axes>"
      ]
     },
     "metadata": {
      "needs_background": "light"
     },
     "output_type": "display_data"
    }
   ],
   "source": [
    "import collections\n",
    "import matplotlib.pyplot as plt\n",
    "%matplotlib inline \n",
    "\n",
    "degree_sequence = sorted([d for n, d in G.degree()], reverse=True)  # degree sequence\n",
    "# print \"Degree sequence\", degree_sequence\n",
    "degreeCount = collections.Counter(degree_sequence)\n",
    "deg, cnt = zip(*degreeCount.items());\n",
    "\n",
    "fig, ax = plt.subplots()\n",
    "plt.bar(deg, cnt, width=0.80, color='b')\n",
    "\n",
    "plt.title(\"Degree Histogram\")\n",
    "plt.ylabel(\"Count\")\n",
    "plt.xlabel(\"Degree\")\n",
    "ax.set_xticks([d + 0.4 for d in deg]);\n",
    "ax.set_xticklabels(deg);"
   ]
  },
  {
   "cell_type": "code",
   "execution_count": 51,
   "metadata": {},
   "outputs": [
    {
     "data": {
      "text/plain": [
       "Counter({11: 1, 7: 1, 5: 1, 3: 10, 2: 27, 1: 29})"
      ]
     },
     "execution_count": 51,
     "metadata": {},
     "output_type": "execute_result"
    }
   ],
   "source": [
    "degreeCount"
   ]
  },
  {
   "cell_type": "code",
   "execution_count": 52,
   "metadata": {},
   "outputs": [
    {
     "data": {
      "text/plain": [
       "68"
      ]
     },
     "execution_count": 52,
     "metadata": {},
     "output_type": "execute_result"
    }
   ],
   "source": [
    "n_edges"
   ]
  },
  {
   "cell_type": "code",
   "execution_count": 58,
   "metadata": {},
   "outputs": [
    {
     "name": "stdout",
     "output_type": "stream",
     "text": [
      "2843 [ { \"id\":0, \"type\":\"Program\", \"children\":[1,3,20,25,61] }, { \"id\":1, \"type\":\"ExpressionStatement\", \"children\":[2] }, { \"id\":2, \"type\":\"LiteralString\", \"value\":\"use strict\" }, { \"id\":3, \"type\":\"VariableDeclaration\", \"children\":[4,8,12,16] }, { \"id\":4, \"type\":\"VariableDeclarator\", \"value\":\"jsonFile\", \"children\":[5] }, { \"id\":5, \"type\":\"CallExpression\", \"children\":[6,7] }, { \"id\":6, \"type\":\"Identifier\", \"value\":\"require\" }, { \"id\":7, \"type\":\"LiteralString\", \"value\":\"jsonfile\" }, { \"id\":8, \"type\":\"VariableDeclarator\", \"value\":\"fs\", \"children\":[9] }, { \"id\":9, \"type\":\"CallExpression\", \"children\":[10,11] }, { \"id\":10, \"type\":\"Identifier\", \"value\":\"require\" }, { \"id\":11, \"type\":\"LiteralString\", \"value\":\"fs\" }, { \"id\":12, \"type\":\"VariableDeclarator\", \"value\":\"mkdir\", \"children\":[13] }, { \"id\":13, \"type\":\"CallExpression\", \"children\":[14,15] }, { \"id\":14, \"type\":\"Identifier\", \"value\":\"require\" }, { \"id\":15, \"type\":\"LiteralString\", \"value\":\"./mkdir\" }, { \"id\":16, \"type\":\"VariableDeclarator\", \"value\":\"path\", \"children\":[17] }, { \"id\":17, \"type\":\"CallExpression\", \"children\":[18,19] }, { \"id\":18, \"type\":\"Identifier\", \"value\":\"require\" }, { \"id\":19, \"type\":\"LiteralString\", \"value\":\"path\" }, { \"id\":20, \"type\":\"VariableDeclaration\", \"children\":[21] }, { \"id\":21, \"type\":\"VariableDeclarator\", \"value\":\"me\", \"children\":[22] }, { \"id\":22, \"type\":\"MemberExpression\", \"children\":[23,24] }, { \"id\":23, \"type\":\"Identifier\", \"value\":\"module\" }, { \"id\":24, \"type\":\"Property\", \"value\":\"exports\" }, { \"id\":25, \"type\":\"ExpressionStatement\", \"children\":[26] }, { \"id\":26, \"type\":\"AssignmentExpression\", \"children\":[27,30] }, { \"id\":27, \"type\":\"MemberExpression\", \"children\":[28,29] }, { \"id\":28, \"type\":\"Identifier\", \"value\":\"me\" }, { \"id\":29, \"type\":\"Property\", \"value\":\"outputJsonSync\" }, { \"id\":30, \"type\":\"FunctionExpression\", \"children\":[31,32,33] }, { \"id\":31, \"type\":\"Identifier\", \"value\":\"file\" }, { \"id\":32, \"type\":\"Identifier\", \"value\":\"data\" }, { \"id\":33, \"type\":\"BlockStatement\", \"children\":[34,41,54] }, { \"id\":34, \"type\":\"VariableDeclaration\", \"children\":[35] }, { \"id\":35, \"type\":\"VariableDeclarator\", \"value\":\"dir\", \"children\":[36] }, { \"id\":36, \"type\":\"CallExpression\", \"children\":[37,40] }, { \"id\":37, \"type\":\"MemberExpression\", \"children\":[38,39] }, { \"id\":38, \"type\":\"Identifier\", \"value\":\"path\" }, { \"id\":39, \"type\":\"Property\", \"value\":\"dirname\" }, { \"id\":40, \"type\":\"Identifier\", \"value\":\"file\" }, { \"id\":41, \"type\":\"IfStatement\", \"children\":[42,48] }, { \"id\":42, \"type\":\"UnaryExpression\", \"value\":\"!\", \"children\":[43] }, { \"id\":43, \"type\":\"CallExpression\", \"children\":[44,47] }, { \"id\":44, \"type\":\"MemberExpression\", \"children\":[45,46] }, { \"id\":45, \"type\":\"Identifier\", \"value\":\"fs\" }, { \"id\":46, \"type\":\"Property\", \"value\":\"existsSync\" }, { \"id\":47, \"type\":\"Identifier\", \"value\":\"dir\" }, { \"id\":48, \"type\":\"ExpressionStatement\", \"children\":[49] }, { \"id\":49, \"type\":\"CallExpression\", \"children\":[50,53] }, { \"id\":50, \"type\":\"MemberExpression\", \"children\":[51,52] }, { \"id\":51, \"type\":\"Identifier\", \"value\":\"mkdir\" }, { \"id\":52, \"type\":\"Property\", \"value\":\"mkdirsSync\" }, { \"id\":53, \"type\":\"Identifier\", \"value\":\"dir\" }, { \"id\":54, \"type\":\"ExpressionStatement\", \"children\":[55] }, { \"id\":55, \"type\":\"CallExpression\", \"children\":[56,59,60] }, { \"id\":56, \"type\":\"MemberExpression\", \"children\":[57,58] }, { \"id\":57, \"type\":\"Identifier\", \"value\":\"jsonFile\" }, { \"id\":58, \"type\":\"Property\", \"value\":\"writeFileSync\" }, { \"id\":59, \"type\":\"Identifier\", \"value\":\"file\" }, { \"id\":60, \"type\":\"Identifier\", \"value\":\"data\" }, { \"id\":61, \"type\":\"ExpressionStatement\", \"children\":[62] }, { \"id\":62, \"type\":\"AssignmentExpression\", \"children\":[63,66] }, { \"id\":63, \"type\":\"MemberExpression\", \"children\":[64,65] }, { \"id\":64, \"type\":\"Identifier\", \"value\":\"me\" }, { \"id\":65, \"type\":\"Property\", \"value\":\"outputJson\" }, { \"id\":66, \"type\":\"FunctionExpression\", \"children\":[67,68,69,70] }, { \"id\":67, \"type\":\"Identifier\", \"value\":\"file\" }, { \"id\":68, \"type\":\"Identifier\", \"value\":\"data\" }, { \"id\":69, \"type\":\"Identifier\", \"value\":\"callback\" }, { \"id\":70, \"type\":\"BlockStatement\", \"children\":[71,78] }, { \"id\":71, \"type\":\"VariableDeclaration\", \"children\":[72] }, { \"id\":72, \"type\":\"VariableDeclarator\", \"value\":\"dir\", \"children\":[73] }, { \"id\":73, \"type\":\"CallExpression\", \"children\":[74,77] }, { \"id\":74, \"type\":\"MemberExpression\", \"children\":[75,76] }, { \"id\":75, \"type\":\"Identifier\", \"value\":\"path\" }, { \"id\":76, \"type\":\"Property\", \"value\":\"dirname\" }, { \"id\":77, \"type\":\"Identifier\", \"value\":\"file\" }, { \"id\":78, \"type\":\"ExpressionStatement\", \"children\":[79] }, { \"id\":79, \"type\":\"CallExpression\", \"children\":[80,83,84] }, { \"id\":80, \"type\":\"MemberExpression\", \"children\":[81,82] }, { \"id\":81, \"type\":\"Identifier\", \"value\":\"fs\" }, { \"id\":82, \"type\":\"Property\", \"value\":\"exists\" }, { \"id\":83, \"type\":\"Identifier\", \"value\":\"dir\" }, { \"id\":84, \"type\":\"FunctionExpression\", \"children\":[85,86] }, { \"id\":85, \"type\":\"Identifier\", \"value\":\"itDoes\" }, { \"id\":86, \"type\":\"BlockStatement\", \"children\":[87,97] }, { \"id\":87, \"type\":\"IfStatement\", \"children\":[88,89] }, { \"id\":88, \"type\":\"Identifier\", \"value\":\"itDoes\" }, { \"id\":89, \"type\":\"ReturnStatement\", \"children\":[90] }, { \"id\":90, \"type\":\"CallExpression\", \"children\":[91,94,95,96] }, { \"id\":91, \"type\":\"MemberExpression\", \"children\":[92,93] }, { \"id\":92, \"type\":\"Identifier\", \"value\":\"jsonFile\" }, { \"id\":93, \"type\":\"Property\", \"value\":\"writeFile\" }, { \"id\":94, \"type\":\"Identifier\", \"value\":\"file\" }, { \"id\":95, \"type\":\"Identifier\", \"value\":\"data\" }, { \"id\":96, \"type\":\"Identifier\", \"value\":\"callback\" }, { \"id\":97, \"type\":\"ExpressionStatement\", \"children\":[98] }, { \"id\":98, \"type\":\"CallExpression\", \"children\":[99,102,103] }, { \"id\":99, \"type\":\"MemberExpression\", \"children\":[100,101] }, { \"id\":100, \"type\":\"Identifier\", \"value\":\"mkdir\" }, { \"id\":101, \"type\":\"Property\", \"value\":\"mkdirs\" }, { \"id\":102, \"type\":\"Identifier\", \"value\":\"dir\" }, { \"id\":103, \"type\":\"FunctionExpression\", \"children\":[104,105] }, { \"id\":104, \"type\":\"Identifier\", \"value\":\"err\" }, { \"id\":105, \"type\":\"BlockStatement\", \"children\":[106,112] }, { \"id\":106, \"type\":\"IfStatement\", \"children\":[107,108] }, { \"id\":107, \"type\":\"Identifier\", \"value\":\"err\" }, { \"id\":108, \"type\":\"ReturnStatement\", \"children\":[109] }, { \"id\":109, \"type\":\"CallExpression\", \"children\":[110,111] }, { \"id\":110, \"type\":\"Identifier\", \"value\":\"callback\" }, { \"id\":111, \"type\":\"Identifier\", \"value\":\"err\" }, { \"id\":112, \"type\":\"ExpressionStatement\", \"children\":[113] }, { \"id\":113, \"type\":\"CallExpression\", \"children\":[114,117,118,119] }, { \"id\":114, \"type\":\"MemberExpression\", \"children\":[115,116] }, { \"id\":115, \"type\":\"Identifier\", \"value\":\"jsonFile\" }, { \"id\":116, \"type\":\"Property\", \"value\":\"writeFile\" }, { \"id\":117, \"type\":\"Identifier\", \"value\":\"file\" }, { \"id\":118, \"type\":\"Identifier\", \"value\":\"data\" }, { \"id\":119, \"type\":\"Identifier\", \"value\":\"callback\" }, 0],\n",
      "\n"
     ]
    }
   ],
   "source": [
    "token_types = set()\n",
    "\n",
    "with open(filename, 'r') as f:\n",
    "    try:\n",
    "        for idx, line in enumerate(f):\n",
    "            data = json.loads(line[:-6]+\"]\")\n",
    "            for r in data:\n",
    "                if type(r) == int:\n",
    "                    break\n",
    "                token_types.add(r['type'])\n",
    "            #break\n",
    "    except:\n",
    "        print(idx,line)"
   ]
  },
  {
   "cell_type": "code",
   "execution_count": 2,
   "metadata": {},
   "outputs": [],
   "source": [
    "token_types = {'ArrayAccess',\n",
    " 'ArrayExpression',\n",
    " 'AssignmentExpression',\n",
    " 'BinaryExpression',\n",
    " 'BlockStatement',\n",
    " 'BreakStatement',\n",
    " 'CallExpression',\n",
    " 'CatchClause',\n",
    " 'ConditionalExpression',\n",
    " 'ContinueStatement',\n",
    " 'DoWhileStatement',\n",
    " 'EmptyStatement',\n",
    " 'ExpressionStatement',\n",
    " 'ForInStatement',\n",
    " 'ForStatement',\n",
    " 'FunctionDeclaration',\n",
    " 'FunctionExpression',\n",
    " 'Identifier',\n",
    " 'IfStatement',\n",
    " 'LabeledStatement',\n",
    " 'LiteralBoolean',\n",
    " 'LiteralNull',\n",
    " 'LiteralNumber',\n",
    " 'LiteralRegExp',\n",
    " 'LiteralString',\n",
    " 'LogicalExpression',\n",
    " 'MemberExpression',\n",
    " 'NewExpression',\n",
    " 'ObjectExpression',\n",
    " 'Program',\n",
    " 'Property',\n",
    " 'ReturnStatement',\n",
    " 'SequenceExpression',\n",
    " 'SwitchCase',\n",
    " 'SwitchStatement',\n",
    " 'ThisExpression',\n",
    " 'ThrowStatement',\n",
    " 'TryStatement',\n",
    " 'UnaryExpression',\n",
    " 'UpdateExpression',\n",
    " 'VariableDeclaration',\n",
    " 'VariableDeclarator',\n",
    " 'WhileStatement'}"
   ]
  },
  {
   "cell_type": "code",
   "execution_count": 4,
   "metadata": {
    "scrolled": true
   },
   "outputs": [
    {
     "name": "stdout",
     "output_type": "stream",
     "text": [
      "assignmentexpression\n",
      "literalregexp\n",
      "binaryexpression\n",
      "switchcase\n",
      "updateexpression\n",
      "literalnull\n",
      "throwstatement\n",
      "trystatement\n",
      "variabledeclarator\n",
      "identifier\n",
      "program\n",
      "ifstatement\n",
      "expressionstatement\n",
      "callexpression\n",
      "functionexpression\n",
      "dowhilestatement\n",
      "labeledstatement\n",
      "unaryexpression\n",
      "functiondeclaration\n",
      "emptystatement\n",
      "arrayaccess\n",
      "whilestatement\n",
      "objectexpression\n",
      "literalboolean\n",
      "newexpression\n",
      "memberexpression\n",
      "catchclause\n",
      "continuestatement\n",
      "conditionalexpression\n",
      "forinstatement\n",
      "thisexpression\n",
      "forstatement\n",
      "property\n",
      "returnstatement\n",
      "arrayexpression\n",
      "sequenceexpression\n",
      "blockstatement\n",
      "breakstatement\n",
      "literalstring\n",
      "literalnumber\n",
      "logicalexpression\n",
      "switchstatement\n",
      "variabledeclaration\n"
     ]
    }
   ],
   "source": [
    "for k in token_types:\n",
    "    print(k.lower())\n",
    "    "
   ]
  },
  {
   "cell_type": "code",
   "execution_count": 54,
   "metadata": {},
   "outputs": [
    {
     "data": {
      "text/plain": [
       "{'18': 'test',\n",
       " '20': 'test',\n",
       " '24': 'enterFunc',\n",
       " '28': 'printBugNumber',\n",
       " '29': 'BUGNUMBER',\n",
       " '32': 'printStatus',\n",
       " '33': 'summary',\n",
       " '36': 'jit',\n",
       " '40': '__proto__',\n",
       " '42': '✖',\n",
       " '46': 'f',\n",
       " '50': 'eval',\n",
       " '54': 'f',\n",
       " '57': 'jit',\n",
       " '61': 'reportCompare',\n",
       " '62': 'expect',\n",
       " '63': 'actual',\n",
       " '64': 'summary',\n",
       " '67': 'exitFunc'}"
      ]
     },
     "execution_count": 54,
     "metadata": {},
     "output_type": "execute_result"
    }
   ],
   "source": [
    "var_map"
   ]
  },
  {
   "cell_type": "code",
   "execution_count": null,
   "metadata": {},
   "outputs": [],
   "source": []
  }
 ],
 "metadata": {
  "kernelspec": {
   "display_name": "Python 3",
   "language": "python",
   "name": "python3"
  },
  "language_info": {
   "codemirror_mode": {
    "name": "ipython",
    "version": 3
   },
   "file_extension": ".py",
   "mimetype": "text/x-python",
   "name": "python",
   "nbconvert_exporter": "python",
   "pygments_lexer": "ipython3",
   "version": "3.7.1"
  }
 },
 "nbformat": 4,
 "nbformat_minor": 2
}
