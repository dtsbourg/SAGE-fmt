{
 "cells": [
  {
   "cell_type": "markdown",
   "metadata": {},
   "source": [
    "# Inspector\n",
    "\n",
    "Inspecting the generated ASTs."
   ]
  },
  {
   "cell_type": "code",
   "execution_count": 241,
   "metadata": {},
   "outputs": [],
   "source": [
    "import pandas as pd\n",
    "import numpy as np\n",
    "import matplotlib.pyplot as plt\n",
    "import sklearn\n",
    "import json\n",
    "import os\n",
    "import joblib\n",
    "from operator import itemgetter\n",
    "\n"
   ]
  },
  {
   "cell_type": "code",
   "execution_count": 4,
   "metadata": {},
   "outputs": [],
   "source": [
    "DATA_PATH = 'data/keras-example/graph/'"
   ]
  },
  {
   "cell_type": "markdown",
   "metadata": {},
   "source": [
    "## Load data"
   ]
  },
  {
   "cell_type": "markdown",
   "metadata": {},
   "source": [
    "### Features"
   ]
  },
  {
   "cell_type": "code",
   "execution_count": 206,
   "metadata": {},
   "outputs": [
    {
     "data": {
      "text/plain": [
       "(214569, 105)"
      ]
     },
     "execution_count": 206,
     "metadata": {},
     "output_type": "execute_result"
    }
   ],
   "source": [
    "feats = np.load(DATA_PATH+'feats.npy')\n",
    "feats.shape"
   ]
  },
  {
   "cell_type": "markdown",
   "metadata": {},
   "source": [
    "### Graph"
   ]
  },
  {
   "cell_type": "code",
   "execution_count": 207,
   "metadata": {},
   "outputs": [
    {
     "name": "stdout",
     "output_type": "stream",
     "text": [
      "214569 321933\n"
     ]
    }
   ],
   "source": [
    "G_data = json.load(open(DATA_PATH + \"G.json\"))\n",
    "G = json_graph.node_link_graph(G_data)\n",
    "print(G.number_of_nodes(), G.number_of_edges())"
   ]
  },
  {
   "cell_type": "markdown",
   "metadata": {},
   "source": [
    "### Node id map"
   ]
  },
  {
   "cell_type": "code",
   "execution_count": 211,
   "metadata": {},
   "outputs": [],
   "source": [
    "node_id_map = json.load(open(DATA_PATH + \"id_map.json\"))"
   ]
  },
  {
   "cell_type": "markdown",
   "metadata": {},
   "source": [
    "### File map"
   ]
  },
  {
   "cell_type": "code",
   "execution_count": 210,
   "metadata": {},
   "outputs": [],
   "source": [
    "file_map = json.load(open(DATA_PATH + \"file_map.json\"))"
   ]
  },
  {
   "cell_type": "markdown",
   "metadata": {},
   "source": [
    "### Source-code line map"
   ]
  },
  {
   "cell_type": "code",
   "execution_count": 212,
   "metadata": {},
   "outputs": [],
   "source": [
    "source_map = json.load(open(DATA_PATH + \"source_map.json\"))"
   ]
  },
  {
   "cell_type": "markdown",
   "metadata": {},
   "source": [
    "### AST Token maps"
   ]
  },
  {
   "cell_type": "code",
   "execution_count": 213,
   "metadata": {},
   "outputs": [],
   "source": [
    "ast_symbol_dict = joblib.load(filename='ast_symbol_dict')\n",
    "inv_ast_symbol_dict = joblib.load(filename='inv_ast_symbol_dict')"
   ]
  },
  {
   "cell_type": "markdown",
   "metadata": {},
   "source": [
    "---\n",
    "\n",
    "## Helpers"
   ]
  },
  {
   "cell_type": "code",
   "execution_count": 270,
   "metadata": {},
   "outputs": [],
   "source": [
    "def get_name_from_token(token, show_id=True):\n",
    "    tokenid  = np.nonzero(token)[0][0]\n",
    "    return get_name_from_token_id(tokenid, show_id=show_id)"
   ]
  },
  {
   "cell_type": "code",
   "execution_count": 271,
   "metadata": {},
   "outputs": [],
   "source": [
    "def get_name_from_token_id(tokenid, show_id = True):\n",
    "    strtoken = inv_ast_symbol_dict.get(tokenid)\n",
    "    \n",
    "    if strtoken is None:\n",
    "        strtoken = \"<Unknown token>\"\n",
    "    else:\n",
    "        strtoken = strtoken.__name__\n",
    "        \n",
    "    if show_id is True:\n",
    "        strtoken += \" \" + str(tokenid) \n",
    "        \n",
    "    return strtoken"
   ]
  },
  {
   "cell_type": "code",
   "execution_count": 272,
   "metadata": {},
   "outputs": [],
   "source": [
    "def inspect_node_recursive(node_id, G, feats, depth=0):\n",
    "    '''\n",
    "    Recursively print neighbouring node tokens\n",
    "    '''\n",
    "    neighbours = list(G.adj[node_id])\n",
    "    for i,token in enumerate(feats[neighbours]):\n",
    "        strtoken = get_name_from_token(token)\n",
    "        print(\" \"*depth, strtoken)\n",
    "        if depth < 2:\n",
    "            inspect_node_recursive(i, G, feats, depth+1)"
   ]
  },
  {
   "cell_type": "code",
   "execution_count": 273,
   "metadata": {},
   "outputs": [
    {
     "name": "stdout",
     "output_type": "stream",
     "text": [
      " Module 0\n",
      "  ImportFrom 21\n",
      "   ImportFrom 21\n",
      "   ImportFrom 21\n",
      "   Assign 9\n",
      "   Expr 24\n",
      "   <Unknown token> 104\n",
      "  ImportFrom 21\n",
      "   Module 0\n",
      "   alias 101\n",
      "  Assign 9\n",
      "   ImportFrom 21\n",
      "  Expr 24\n",
      "   Module 0\n",
      "   alias 101\n",
      "  <Unknown token> 104\n",
      "   ImportFrom 21\n",
      " alias 101\n",
      "  Module 0\n",
      "   ImportFrom 21\n",
      "   ImportFrom 21\n",
      "   Assign 9\n",
      "   Expr 24\n",
      "   <Unknown token> 104\n",
      "  alias 101\n",
      "   Module 0\n",
      "   alias 101\n"
     ]
    }
   ],
   "source": [
    "# Example usage\n",
    "inspect_node_recursive(1, G=G, feats=feats)"
   ]
  },
  {
   "cell_type": "code",
   "execution_count": 281,
   "metadata": {},
   "outputs": [],
   "source": [
    "def draw_egonet(node_id=1009, radius=2):\n",
    "    node_and_degree = G.degree()\n",
    "    hub_ego = nx.ego_graph(G, node_id, radius=radius)\n",
    "    # Draw graph\n",
    "    pos = nx.spring_layout(hub_ego)\n",
    "\n",
    "    neighbours = list(hub_ego.nodes())\n",
    "    labels = {}\n",
    "    for tokenid in neighbours:\n",
    "        labels[tokenid] = get_name_from_token_id(tokenid, show_id=False)\n",
    "    labels\n",
    "\n",
    "    nx.draw(hub_ego, pos, node_color='b', node_size=50, with_labels=True, labels=labels)\n",
    "    # Draw ego as large and red\n",
    "    nx.draw_networkx_nodes(hub_ego, pos, nodelist=[node_id], node_size=300, node_color='r')\n",
    "    plt.show()"
   ]
  },
  {
   "cell_type": "code",
   "execution_count": 284,
   "metadata": {},
   "outputs": [
    {
     "data": {
      "image/png": "[encoded data removed]",
      "text/plain": [
       "<Figure size 432x288 with 1 Axes>"
      ]
     },
     "metadata": {},
     "output_type": "display_data"
    }
   ],
   "source": [
    "# Example usage \n",
    "draw_egonet(37, radius=3)"
   ]
  },
  {
   "cell_type": "code",
   "execution_count": null,
   "metadata": {},
   "outputs": [],
   "source": []
  },
  {
   "cell_type": "code",
   "execution_count": null,
   "metadata": {},
   "outputs": [],
   "source": []
  },
  {
   "cell_type": "code",
   "execution_count": null,
   "metadata": {},
   "outputs": [],
   "source": []
  },
  {
   "cell_type": "code",
   "execution_count": null,
   "metadata": {},
   "outputs": [],
   "source": []
  }
 ],
 "metadata": {
  "anaconda-cloud": {},
  "kernelspec": {
   "display_name": "Python [default]",
   "language": "python",
   "name": "python3"
  },
  "language_info": {
   "codemirror_mode": {
    "name": "ipython",
    "version": 3
   },
   "file_extension": ".py",
   "mimetype": "text/x-python",
   "name": "python",
   "nbconvert_exporter": "python",
   "pygments_lexer": "ipython3",
   "version": "3.6.6"
  }
 },
 "nbformat": 4,
 "nbformat_minor": 2
}
